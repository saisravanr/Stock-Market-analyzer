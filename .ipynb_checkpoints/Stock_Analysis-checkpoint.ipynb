{
 "cells": [
  {
   "cell_type": "code",
   "execution_count": 39,
   "metadata": {
    "collapsed": false
   },
   "outputs": [
    {
     "name": "stderr",
     "output_type": "stream",
     "text": [
      "INFO:bokeh.core.state:Session output file 'CS.html' already exists, will be overwritten.\n"
     ]
    }
   ],
   "source": [
    "from pandas_datareader import data\n",
    "import datetime\n",
    "from bokeh.plotting import figure, output_file, show\n",
    "\n",
    "start = datetime.datetime(2016,3,1)\n",
    "end = datetime.datetime(2016,6,10)\n",
    "\n",
    "df = data.DataReader(name = \"GOOG\",data_source = \"yahoo\", start = start, end = end)\n",
    "\n",
    "\n",
    "def status(c,o):\n",
    "    if(c > o):\n",
    "        value = \"Increase\"\n",
    "    elif(c < o):\n",
    "        value = \"Decrease\"\n",
    "    else:\n",
    "        value = \"Equal\"\n",
    "    return value\n",
    "\n",
    "df[\"Status\"] = [status(c,o) for c,o in zip(df.Close, df.Open)]\n",
    "df[\"Middle\"] = (df.Open + df.Close)/2\n",
    "df[\"Height\"] = abs(df.Open - df.Close)\n",
    "\n",
    "\n",
    "p = figure(x_axis_type = \"datetime\", width= 1000, height = 300, responsive = True)\n",
    "p.title.text = \" Candle Stick Chart\"\n",
    "p.title.text_font_size='16pt'\n",
    "p.xaxis.axis_label='Date'\n",
    "p.yaxis.axis_label='Stock Cost'\n",
    "p.grid.grid_line_alpha = 0.3\n",
    "\n",
    "hours_12 = 12 * 60 *60 * 1000\n",
    "\n",
    "p.segment(df.index , df.High, df.index , df.Low, color=\"Black\")\n",
    "\n",
    "p.rect(df.index[df.Status ==\"Increase\"], df.Middle[df.Status ==\"Increase\"], hours_12, df.Height[df.Status ==\"Increase\"],fill_color=\"#D3D3D3\",line_color=\"black\")\n",
    "\n",
    "p.rect(df.index[df.Status ==\"Decrease\"], df.Middle[df.Status ==\"Decrease\"], hours_12, df.Height[df.Status ==\"Decrease\"],fill_color=\"red\",line_color=\"black\")\n",
    "\n",
    "\n",
    "output_file(\"CS.html\")\n",
    "\n",
    "show(p)"
   ]
  },
  {
   "cell_type": "code",
   "execution_count": null,
   "metadata": {
    "collapsed": true
   },
   "outputs": [],
   "source": []
  }
 ],
 "metadata": {
  "kernelspec": {
   "display_name": "Python 3",
   "language": "python",
   "name": "python3"
  },
  "language_info": {
   "codemirror_mode": {
    "name": "ipython",
    "version": 3
   },
   "file_extension": ".py",
   "mimetype": "text/x-python",
   "name": "python",
   "nbconvert_exporter": "python",
   "pygments_lexer": "ipython3",
   "version": "3.5.2"
  }
 },
 "nbformat": 4,
 "nbformat_minor": 2
}
